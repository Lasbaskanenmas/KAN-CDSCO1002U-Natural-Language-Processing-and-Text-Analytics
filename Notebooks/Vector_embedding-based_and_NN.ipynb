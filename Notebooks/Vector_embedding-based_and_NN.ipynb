{
 "cells": [
  {
   "cell_type": "code",
   "execution_count": 1,
   "id": "bb5cdba3",
   "metadata": {},
   "outputs": [],
   "source": [
    "import os\n",
    "import re\n",
    "import string\n",
    "import numpy as np\n",
    "import pandas as pd\n",
    "import seaborn as sns\n",
    "import matplotlib.pyplot as plt\n",
    "from collections import Counter"
   ]
  },
  {
   "cell_type": "code",
   "execution_count": 2,
   "id": "5db34353",
   "metadata": {},
   "outputs": [],
   "source": [
    "import spacy\n",
    "import re\n",
    "import contractions\n",
    "import unicodedata\n",
    "import nltk\n",
    "import string\n",
    "\n",
    "# Load nltk stopwords\n",
    "from nltk.corpus import stopwords"
   ]
  },
  {
   "cell_type": "code",
   "execution_count": 3,
   "id": "054bbbf4",
   "metadata": {},
   "outputs": [],
   "source": [
    "import joblib\n",
    "from sklearn.model_selection import train_test_split, GridSearchCV\n",
    "from sklearn.feature_extraction.text import TfidfVectorizer\n",
    "from sklearn.linear_model import LogisticRegression\n",
    "from sklearn.svm import SVC\n",
    "from sklearn.naive_bayes import MultinomialNB\n",
    "from sklearn.pipeline import Pipeline\n",
    "from sklearn.metrics import classification_report, confusion_matrix"
   ]
  },
  {
   "cell_type": "code",
   "execution_count": 4,
   "id": "79ed65b9",
   "metadata": {},
   "outputs": [],
   "source": [
    "from sklearn.preprocessing import LabelEncoder\n",
    "from tensorflow.keras.preprocessing.text import Tokenizer\n",
    "from tensorflow.keras.preprocessing.sequence import pad_sequences\n",
    "from tensorflow.keras.models import Sequential\n",
    "from tensorflow.keras.layers import Embedding, LSTM, Dense, Dropout\n",
    "from tensorflow.keras.optimizers import Adam\n",
    "from tensorflow.keras.callbacks import EarlyStopping\n",
    "import keras_tuner as kt\n",
    "import warnings"
   ]
  },
  {
   "cell_type": "markdown",
   "id": "828e8813-5d18-424f-b4a4-eeeffb08be78",
   "metadata": {},
   "source": [
    "<div class=\"alert alert-block alert-info\" align=center><b></b>\n",
    "    \n",
    "# **Vector Embeddings** "
   ]
  },
  {
   "cell_type": "markdown",
   "id": "e4a7fd12-a7b0-4378-b944-cdb8341cf4c3",
   "metadata": {},
   "source": [
    "## **Data Preprocessing**"
   ]
  },
  {
   "cell_type": "code",
   "execution_count": 9,
   "id": "39e10f77-e182-4a7d-bd52-db9043818c35",
   "metadata": {},
   "outputs": [],
   "source": [
    "!pip install -q spacy contractions nltk"
   ]
  },
  {
   "cell_type": "code",
   "execution_count": 8,
   "id": "b3e7f766-fdcc-4e1f-af92-ec5fda74d437",
   "metadata": {},
   "outputs": [
    {
     "name": "stdout",
     "output_type": "stream",
     "text": [
      "Collecting en-core-web-lg==3.8.0\n",
      "  Downloading https://github.com/explosion/spacy-models/releases/download/en_core_web_lg-3.8.0/en_core_web_lg-3.8.0-py3-none-any.whl (400.7 MB)\n",
      "\u001b[2K     \u001b[90m━━━━━━━━━━━━━━━━━━━━━━━━━━━━━━━━━━━━━━\u001b[0m \u001b[32m400.7/400.7 MB\u001b[0m \u001b[31m15.3 MB/s\u001b[0m eta \u001b[36m0:00:00\u001b[0m00:01\u001b[0m00:01\u001b[0m\n",
      "\u001b[?25hInstalling collected packages: en-core-web-lg\n",
      "Successfully installed en-core-web-lg-3.8.0\n",
      "\u001b[38;5;2m✔ Download and installation successful\u001b[0m\n",
      "You can now load the package via spacy.load('en_core_web_lg')\n"
     ]
    }
   ],
   "source": [
    "!python -m spacy download en_core_web_lg"
   ]
  },
  {
   "cell_type": "code",
   "execution_count": null,
   "id": "04457c0b-02e6-4c71-a148-e40002cfb726",
   "metadata": {},
   "outputs": [],
   "source": [
    "#!pip install numpy==1.26.4"
   ]
  },
  {
   "cell_type": "code",
   "execution_count": 5,
   "id": "9ba1bfca-a57a-4186-9cf8-f4747f8847ac",
   "metadata": {},
   "outputs": [],
   "source": [
    "ml_pbfiqa_df = pd.read_csv(\"Dataset/Cleaned Sentence Data/Cleaned Phrasebank and FiQa.csv\")\n",
    "nn_pbfiqa_df = ml_pbfiqa_df.copy()"
   ]
  },
  {
   "cell_type": "code",
   "execution_count": 6,
   "id": "77dde0da-a4fd-44e4-9e54-dabdc6be9253",
   "metadata": {},
   "outputs": [],
   "source": [
    "ml_ar_df = pd.read_csv(\"Dataset/Cleaned Sentence Data/Cleaned Annual Reports.csv\")\n",
    "nn_ar_df = ml_ar_df.copy()"
   ]
  },
  {
   "cell_type": "code",
   "execution_count": 10,
   "id": "a35b8e7a-2f06-4b95-95e3-b5ec0d3b0e5a",
   "metadata": {},
   "outputs": [],
   "source": [
    "nlp_model = spacy.load('en_core_web_lg') # On UCLoud, change this from 'en_core_web_sm' to 'en_core_web_md' or 'en_core_web_lg' since there's more RAM"
   ]
  },
  {
   "cell_type": "code",
   "execution_count": 11,
   "id": "a6b8e9bd-148e-4bbf-a307-2fcec9340e97",
   "metadata": {},
   "outputs": [],
   "source": [
    "stop_words = set(stopwords.words('english'))\n",
    "\n",
    "sentiment_holding_stopwords = {'above', 'against', 'below', 'but', 'down', 'few', 'further', 'most', 'no', 'nor', 'not', 'off', 'over', 'own', 'too', 'up', 'very'}\n",
    "stop_words = stop_words - sentiment_holding_stopwords\n",
    "\n",
    "# Lemmatize stop words\n",
    "stop_words = set(\n",
    "    nlp_model(word)[0].lemma_\n",
    "    for word in stop_words\n",
    ")"
   ]
  },
  {
   "cell_type": "code",
   "execution_count": 12,
   "id": "718392e0-fdb1-40ce-9afb-bf83280a2406",
   "metadata": {},
   "outputs": [],
   "source": [
    "class TextNormalizer:\n",
    "    \"\"\"\n",
    "    Text normalizer class. When passed a string of text, it will normalize the text by:\n",
    "    1. Expanding contractions.\n",
    "    2. Removing stopwords.\n",
    "    3. Lemmatizing the text or stemming the text.\n",
    "    4. Removing special characters.\n",
    "    5. Converting the text to lowercase.\n",
    "    This is done sequentially.\n",
    "    \"\"\"\n",
    "    def __init__(self):\n",
    "        self.stopwords = stop_words\n",
    "        #self.lemmatizer = lemmatizer\n",
    "        self.nlp = nlp_model\n",
    "\n",
    "    def normalize(self, text, rm_stopwords=True, rm_special_chars=True, expand_cont=True, \n",
    "                  case_convert=True, lemmatize=True, remove_numbers=True,\n",
    "                  remove_accented_chars=True, scrub_words=True, tokenize=True):\n",
    "        \"\"\"\n",
    "        Normalize the text by applying a series of text processing steps.\n",
    "        rm_stopwords -> Boolean: Removes stopwords from the text.\n",
    "        rm_special_chars -> Boolean: Removes special characters from the text.\n",
    "        expand_cont -> Boolean: Expands contractions in the text.\n",
    "        case_convert -> Boolean: Converts the text to lowercase.\n",
    "        lemmatize -> Boolean: Lemmatizes the text.\n",
    "        \"\"\"\n",
    "        if not isinstance(text, str):\n",
    "            raise ValueError(\"Input text must be a string\")\n",
    "        if expand_cont:\n",
    "            text = self.expand_contractions(text)\n",
    "        if remove_accented_chars:\n",
    "            text = self.remove_accented_chars(text)\n",
    "        if case_convert:\n",
    "            text = self.case_convert(text, True)\n",
    "        else:\n",
    "            text = self.case_convert(text, False)\n",
    "        if remove_numbers:\n",
    "            text = self.remove_numbers(text)\n",
    "        if scrub_words:\n",
    "            text = self.scrub_words(text)\n",
    "        \n",
    "        if not tokenize:\n",
    "            return text\n",
    "        \n",
    "        doc = self.nlp(text)\n",
    "\n",
    "        tokens = [token.text for token in doc]\n",
    "\n",
    "        if lemmatize:\n",
    "            tokens = [token.lemma_ for token in doc if not token.is_punct]\n",
    "\n",
    "        if rm_stopwords:\n",
    "            tokens = [token for token in tokens if token not in self.stopwords]\n",
    "\n",
    "        if rm_special_chars:\n",
    "            tokens = [re.sub(r'[^\\w\\s]', '', token) for token in tokens]\n",
    "            tokens = [token for token in tokens if token]  # Remove empty strings\n",
    "\n",
    "        return ' '.join(tokens)        \n",
    "     \n",
    "\n",
    "    # Define the text processing methods\n",
    "    def expand_contractions(self, text):\n",
    "        return contractions.fix(text)\n",
    "    \n",
    "    def remove_accented_chars(self, text):\n",
    "        return unicodedata.normalize('NFKD', text).encode('ascii', 'ignore').decode('utf-8', 'ignore')\n",
    "    \n",
    "    def scrub_words(self, text):\n",
    "        # Replace \\xa0 characters in text\n",
    "        text = re.sub(r'\\xa0', ' ', text)\n",
    "        # Replace non ascii / not words and digits\n",
    "        text = re.sub(r\"([^\\w\\d])\", ' ', text)\n",
    "        # Replace new line characters and following text until space\n",
    "        text = re.sub(r'\\n(\\w*?)[\\s]', '', text)\n",
    "        # Remove html markup\n",
    "        text = re.sub(r\"<.*?>\", ' ', text)\n",
    "        # Remove extra spaces from the text\n",
    "        text = re.sub(r\"\\s+\", ' ', text)\n",
    "        return text.strip()\n",
    "\n",
    "    def case_convert(self, text, lower=True):\n",
    "        if lower:\n",
    "            return text.lower()\n",
    "        else:\n",
    "            return text.upper()\n",
    "        \n",
    "    def remove_numbers(self, text):\n",
    "        return re.sub(r'\\d+', '', text)"
   ]
  },
  {
   "cell_type": "code",
   "execution_count": 13,
   "id": "301bfa44-ddbd-402a-94f8-6e5ce5429abd",
   "metadata": {},
   "outputs": [],
   "source": [
    "ml_normalizer = TextNormalizer()\n",
    "nn_normalizer = TextNormalizer()"
   ]
  },
  {
   "cell_type": "code",
   "execution_count": 14,
   "id": "b0fac309-3362-4d5e-bea9-dd88c8f39758",
   "metadata": {},
   "outputs": [
    {
     "data": {
      "text/html": [
       "<div>\n",
       "<style scoped>\n",
       "    .dataframe tbody tr th:only-of-type {\n",
       "        vertical-align: middle;\n",
       "    }\n",
       "\n",
       "    .dataframe tbody tr th {\n",
       "        vertical-align: top;\n",
       "    }\n",
       "\n",
       "    .dataframe thead th {\n",
       "        text-align: right;\n",
       "    }\n",
       "</style>\n",
       "<table border=\"1\" class=\"dataframe\">\n",
       "  <thead>\n",
       "    <tr style=\"text-align: right;\">\n",
       "      <th></th>\n",
       "      <th>Sentence</th>\n",
       "      <th>Sentiment</th>\n",
       "    </tr>\n",
       "  </thead>\n",
       "  <tbody>\n",
       "    <tr>\n",
       "      <th>0</th>\n",
       "      <td>geosolution technology leverage benefon gps so...</td>\n",
       "      <td>positive</td>\n",
       "    </tr>\n",
       "    <tr>\n",
       "      <th>1</th>\n",
       "      <td>esi low down bk real possibility</td>\n",
       "      <td>negative</td>\n",
       "    </tr>\n",
       "    <tr>\n",
       "      <th>2</th>\n",
       "      <td>last quarter componenta net sale double eurm e...</td>\n",
       "      <td>positive</td>\n",
       "    </tr>\n",
       "    <tr>\n",
       "      <th>3</th>\n",
       "      <td>accord finnish russian chamber commerce major ...</td>\n",
       "      <td>neutral</td>\n",
       "    </tr>\n",
       "    <tr>\n",
       "      <th>4</th>\n",
       "      <td>swedish buyout firm sell remain percent stake ...</td>\n",
       "      <td>neutral</td>\n",
       "    </tr>\n",
       "  </tbody>\n",
       "</table>\n",
       "</div>"
      ],
      "text/plain": [
       "                                            Sentence Sentiment\n",
       "0  geosolution technology leverage benefon gps so...  positive\n",
       "1                   esi low down bk real possibility  negative\n",
       "2  last quarter componenta net sale double eurm e...  positive\n",
       "3  accord finnish russian chamber commerce major ...   neutral\n",
       "4  swedish buyout firm sell remain percent stake ...   neutral"
      ]
     },
     "execution_count": 14,
     "metadata": {},
     "output_type": "execute_result"
    }
   ],
   "source": [
    "ml_pbfiqa_df['Sentence'] = ml_pbfiqa_df['Sentence'].apply(lambda x: ml_normalizer.normalize(x))\n",
    "ml_pbfiqa_df.head()"
   ]
  },
  {
   "cell_type": "code",
   "execution_count": 15,
   "id": "1ded35b5-e697-4d8b-a3ae-605258a6409c",
   "metadata": {},
   "outputs": [
    {
     "data": {
      "text/html": [
       "<div>\n",
       "<style scoped>\n",
       "    .dataframe tbody tr th:only-of-type {\n",
       "        vertical-align: middle;\n",
       "    }\n",
       "\n",
       "    .dataframe tbody tr th {\n",
       "        vertical-align: top;\n",
       "    }\n",
       "\n",
       "    .dataframe thead th {\n",
       "        text-align: right;\n",
       "    }\n",
       "</style>\n",
       "<table border=\"1\" class=\"dataframe\">\n",
       "  <thead>\n",
       "    <tr style=\"text-align: right;\">\n",
       "      <th></th>\n",
       "      <th>Sentence</th>\n",
       "      <th>Sentiment</th>\n",
       "    </tr>\n",
       "  </thead>\n",
       "  <tbody>\n",
       "    <tr>\n",
       "      <th>0</th>\n",
       "      <td>global electricity demand project double drive...</td>\n",
       "      <td>positive</td>\n",
       "    </tr>\n",
       "    <tr>\n",
       "      <th>1</th>\n",
       "      <td>exact electricity demand depend much electrifi...</td>\n",
       "      <td>neutral</td>\n",
       "    </tr>\n",
       "    <tr>\n",
       "      <th>2</th>\n",
       "      <td>future demand meet affordable secure renewable...</td>\n",
       "      <td>neutral</td>\n",
       "    </tr>\n",
       "    <tr>\n",
       "      <th>3</th>\n",
       "      <td>renewable industry see substantial build recen...</td>\n",
       "      <td>positive</td>\n",
       "    </tr>\n",
       "    <tr>\n",
       "      <th>4</th>\n",
       "      <td>diversify energy portfolio include high share ...</td>\n",
       "      <td>neutral</td>\n",
       "    </tr>\n",
       "  </tbody>\n",
       "</table>\n",
       "</div>"
      ],
      "text/plain": [
       "                                            Sentence Sentiment\n",
       "0  global electricity demand project double drive...  positive\n",
       "1  exact electricity demand depend much electrifi...   neutral\n",
       "2  future demand meet affordable secure renewable...   neutral\n",
       "3  renewable industry see substantial build recen...  positive\n",
       "4  diversify energy portfolio include high share ...   neutral"
      ]
     },
     "execution_count": 15,
     "metadata": {},
     "output_type": "execute_result"
    }
   ],
   "source": [
    "ml_ar_df['Sentence'] = ml_ar_df['Sentence'].apply(lambda x: ml_normalizer.normalize(x))\n",
    "ml_ar_df.head()"
   ]
  },
  {
   "cell_type": "code",
   "execution_count": 16,
   "id": "f2e6e229-80bc-4ee6-922a-a6d388fd7824",
   "metadata": {},
   "outputs": [
    {
     "data": {
      "text/html": [
       "<div>\n",
       "<style scoped>\n",
       "    .dataframe tbody tr th:only-of-type {\n",
       "        vertical-align: middle;\n",
       "    }\n",
       "\n",
       "    .dataframe tbody tr th {\n",
       "        vertical-align: top;\n",
       "    }\n",
       "\n",
       "    .dataframe thead th {\n",
       "        text-align: right;\n",
       "    }\n",
       "</style>\n",
       "<table border=\"1\" class=\"dataframe\">\n",
       "  <thead>\n",
       "    <tr style=\"text-align: right;\">\n",
       "      <th></th>\n",
       "      <th>Sentence</th>\n",
       "      <th>Sentiment</th>\n",
       "    </tr>\n",
       "  </thead>\n",
       "  <tbody>\n",
       "    <tr>\n",
       "      <th>0</th>\n",
       "      <td>the geosolutions technology will leverage bene...</td>\n",
       "      <td>positive</td>\n",
       "    </tr>\n",
       "    <tr>\n",
       "      <th>1</th>\n",
       "      <td>esi on lows down to bk a real possibility</td>\n",
       "      <td>negative</td>\n",
       "    </tr>\n",
       "    <tr>\n",
       "      <th>2</th>\n",
       "      <td>for the last quarter of componenta s net sales...</td>\n",
       "      <td>positive</td>\n",
       "    </tr>\n",
       "    <tr>\n",
       "      <th>3</th>\n",
       "      <td>according to the finnish russian chamber of co...</td>\n",
       "      <td>neutral</td>\n",
       "    </tr>\n",
       "    <tr>\n",
       "      <th>4</th>\n",
       "      <td>the swedish buyout firm has sold its remaining...</td>\n",
       "      <td>neutral</td>\n",
       "    </tr>\n",
       "  </tbody>\n",
       "</table>\n",
       "</div>"
      ],
      "text/plain": [
       "                                            Sentence Sentiment\n",
       "0  the geosolutions technology will leverage bene...  positive\n",
       "1          esi on lows down to bk a real possibility  negative\n",
       "2  for the last quarter of componenta s net sales...  positive\n",
       "3  according to the finnish russian chamber of co...   neutral\n",
       "4  the swedish buyout firm has sold its remaining...   neutral"
      ]
     },
     "execution_count": 16,
     "metadata": {},
     "output_type": "execute_result"
    }
   ],
   "source": [
    "nn_pbfiqa_df['Sentence'] = nn_pbfiqa_df['Sentence'].apply(lambda x: nn_normalizer.normalize(x, tokenize=False, lemmatize=False, rm_stopwords=False, rm_special_chars=False))\n",
    "nn_pbfiqa_df.head()"
   ]
  },
  {
   "cell_type": "code",
   "execution_count": 17,
   "id": "424245ae-afba-444c-ac02-e954af0dcc40",
   "metadata": {},
   "outputs": [
    {
     "data": {
      "text/html": [
       "<div>\n",
       "<style scoped>\n",
       "    .dataframe tbody tr th:only-of-type {\n",
       "        vertical-align: middle;\n",
       "    }\n",
       "\n",
       "    .dataframe tbody tr th {\n",
       "        vertical-align: top;\n",
       "    }\n",
       "\n",
       "    .dataframe thead th {\n",
       "        text-align: right;\n",
       "    }\n",
       "</style>\n",
       "<table border=\"1\" class=\"dataframe\">\n",
       "  <thead>\n",
       "    <tr style=\"text-align: right;\">\n",
       "      <th></th>\n",
       "      <th>Sentence</th>\n",
       "      <th>Sentiment</th>\n",
       "    </tr>\n",
       "  </thead>\n",
       "  <tbody>\n",
       "    <tr>\n",
       "      <th>0</th>\n",
       "      <td>global electricity demand is projected to doub...</td>\n",
       "      <td>positive</td>\n",
       "    </tr>\n",
       "    <tr>\n",
       "      <th>1</th>\n",
       "      <td>while the exact electricity demand depends on ...</td>\n",
       "      <td>neutral</td>\n",
       "    </tr>\n",
       "    <tr>\n",
       "      <th>2</th>\n",
       "      <td>future demand must be met by affordable secure...</td>\n",
       "      <td>neutral</td>\n",
       "    </tr>\n",
       "    <tr>\n",
       "      <th>3</th>\n",
       "      <td>the renewables industry has seen substantial b...</td>\n",
       "      <td>positive</td>\n",
       "    </tr>\n",
       "    <tr>\n",
       "      <th>4</th>\n",
       "      <td>diversified energy portfolios including a high...</td>\n",
       "      <td>neutral</td>\n",
       "    </tr>\n",
       "  </tbody>\n",
       "</table>\n",
       "</div>"
      ],
      "text/plain": [
       "                                            Sentence Sentiment\n",
       "0  global electricity demand is projected to doub...  positive\n",
       "1  while the exact electricity demand depends on ...   neutral\n",
       "2  future demand must be met by affordable secure...   neutral\n",
       "3  the renewables industry has seen substantial b...  positive\n",
       "4  diversified energy portfolios including a high...   neutral"
      ]
     },
     "execution_count": 17,
     "metadata": {},
     "output_type": "execute_result"
    }
   ],
   "source": [
    "nn_ar_df['Sentence'] = nn_ar_df['Sentence'].apply(lambda x: nn_normalizer.normalize(x, tokenize=False, lemmatize=False, rm_stopwords=False, rm_special_chars=False))\n",
    "nn_ar_df.head()"
   ]
  },
  {
   "cell_type": "markdown",
   "id": "0a4772ab-aa1b-4b14-8f0c-ec67abc2e92e",
   "metadata": {},
   "source": [
    "NB: Final clean because two sentences was missing with \"\""
   ]
  },
  {
   "cell_type": "code",
   "execution_count": 18,
   "id": "6cb99205-10cd-4c0f-b85f-4b3b628faa52",
   "metadata": {},
   "outputs": [
    {
     "data": {
      "text/plain": [
       "(2, 0)"
      ]
     },
     "execution_count": 18,
     "metadata": {},
     "output_type": "execute_result"
    }
   ],
   "source": [
    "# Find empty string values in the 'Sentence' column\n",
    "len(ml_pbfiqa_df[ml_pbfiqa_df['Sentence'].str.strip()==\"\"]), len(ml_ar_df[ml_ar_df['Sentence']==\"\"])"
   ]
  },
  {
   "cell_type": "code",
   "execution_count": 19,
   "id": "53b31564-2cd3-42a6-88f0-80f3c39dad39",
   "metadata": {},
   "outputs": [],
   "source": [
    "# Remove empty string values in the 'Sentence' column\n",
    "ml_pbfiqa_df = ml_pbfiqa_df[ml_pbfiqa_df['Sentence'].str.strip() != '']"
   ]
  },
  {
   "cell_type": "code",
   "execution_count": 20,
   "id": "b6b9288c-4615-432e-adc2-8edf4ece895f",
   "metadata": {},
   "outputs": [
    {
     "data": {
      "text/plain": [
       "(0, 0)"
      ]
     },
     "execution_count": 20,
     "metadata": {},
     "output_type": "execute_result"
    }
   ],
   "source": [
    "# Check again\n",
    "len(ml_pbfiqa_df[ml_pbfiqa_df['Sentence'].str.strip()==\"\"]), len(ml_ar_df[ml_ar_df['Sentence']==\"\"])"
   ]
  },
  {
   "cell_type": "markdown",
   "id": "20af702a-f25f-4c61-af78-30bb74bd66a5",
   "metadata": {},
   "source": [
    "#### Export to CSV"
   ]
  },
  {
   "cell_type": "code",
   "execution_count": 21,
   "id": "335b04e6-62e2-4186-9d33-0988403e9799",
   "metadata": {},
   "outputs": [],
   "source": [
    "os.makedirs(\"Dataset/Preprocessed/\", exist_ok=True)"
   ]
  },
  {
   "cell_type": "code",
   "execution_count": null,
   "id": "fd21bcb4-a356-41d7-9924-05065e172ae7",
   "metadata": {},
   "outputs": [],
   "source": [
    "ml_pbfiqa_df.to_csv(\"Dataset/Preprocessed/ml_pbfiqa.csv\", index=False)\n",
    "ml_ar_df.to_csv(\"Dataset/Preprocessed/ml_ar.csv\", index=False)\n",
    "nn_pbfiqa_df.to_csv(\"Dataset/Preprocessed/nn_pbfiqa.csv\", index=False)\n",
    "nn_ar_df.to_csv(\"Dataset/Preprocessed/nn_ar.csv\", index=False)"
   ]
  },
  {
   "cell_type": "markdown",
   "id": "50bfbe23-6b0e-4855-b237-c415682eb515",
   "metadata": {},
   "source": [
    "## **Machine Learning Models**"
   ]
  },
  {
   "cell_type": "code",
   "execution_count": null,
   "id": "230940f0-ded0-4edb-96df-22f90908ba97",
   "metadata": {},
   "outputs": [],
   "source": [
    "#!pip install -q scikit-learn tensorflow\n",
    "#!pip install -q --upgrade numpy scikit-learn"
   ]
  },
  {
   "cell_type": "code",
   "execution_count": 22,
   "id": "0e36bc9d-9629-4e27-ab53-cee631e7165a",
   "metadata": {},
   "outputs": [
    {
     "name": "stdout",
     "output_type": "stream",
     "text": [
      "\n",
      "Pre-training Logistic Regression on Phrasebank + FiQA...\n",
      "Fine-tuning Logistic Regression on Annual Report training set...\n",
      "Best Params for Logistic Regression: {'clf__C': 10, 'tfidf__ngram_range': (1, 1)}\n",
      "Classification Report on Annual Report test set:\n",
      "              precision    recall  f1-score   support\n",
      "\n",
      "    negative     0.8571    0.6102    0.7129        59\n",
      "     neutral     0.9121    0.9753    0.9427       649\n",
      "    positive     0.9043    0.7975    0.8475       237\n",
      "\n",
      "    accuracy                         0.9079       945\n",
      "   macro avg     0.8912    0.7943    0.8344       945\n",
      "weighted avg     0.9067    0.9079    0.9045       945\n",
      "\n",
      "\n",
      "Pre-training SVM on Phrasebank + FiQA...\n",
      "Fine-tuning SVM on Annual Report training set...\n",
      "Best Params for SVM: {'clf__C': 10, 'clf__kernel': 'linear', 'tfidf__ngram_range': (1, 2)}\n",
      "Classification Report on Annual Report test set:\n",
      "              precision    recall  f1-score   support\n",
      "\n",
      "    negative     0.8400    0.7119    0.7706        59\n",
      "     neutral     0.9284    0.9584    0.9431       649\n",
      "    positive     0.8711    0.8270    0.8485       237\n",
      "\n",
      "    accuracy                         0.9101       945\n",
      "   macro avg     0.8798    0.8324    0.8541       945\n",
      "weighted avg     0.9085    0.9101    0.9086       945\n",
      "\n",
      "\n",
      "Pre-training Naive Bayes on Phrasebank + FiQA...\n",
      "Fine-tuning Naive Bayes on Annual Report training set...\n",
      "Best Params for Naive Bayes: {'clf__alpha': 0.5, 'tfidf__ngram_range': (1, 2)}\n",
      "Classification Report on Annual Report test set:\n",
      "              precision    recall  f1-score   support\n",
      "\n",
      "    negative     1.0000    0.0847    0.1562        59\n",
      "     neutral     0.8121    0.9723    0.8850       649\n",
      "    positive     0.8405    0.5781    0.6850       237\n",
      "\n",
      "    accuracy                         0.8180       945\n",
      "   macro avg     0.8842    0.5450    0.5754       945\n",
      "weighted avg     0.8310    0.8180    0.7893       945\n",
      "\n"
     ]
    }
   ],
   "source": [
    "# -------------------------------\n",
    "# Step 1: Pre-train on ml_pbfiqa.csv\n",
    "# -------------------------------\n",
    "pretrain_df = pd.read_csv(\"Dataset/Preprocessed/ml_pbfiqa.csv\")\n",
    "X_pretrain = pretrain_df['Sentence']\n",
    "y_pretrain = pretrain_df['Sentiment']\n",
    "\n",
    "# -------------------------------\n",
    "# Step 2: Prepare ar.csv for evaluation\n",
    "# -------------------------------\n",
    "ar_df = pd.read_csv(\"Dataset/Preprocessed/ml_ar.csv\")\n",
    "X_ar = ar_df['Sentence']\n",
    "y_ar = ar_df['Sentiment']\n",
    "X_train_ar, X_test_ar, y_train_ar, y_test_ar = train_test_split(X_ar, y_ar, test_size=0.2, random_state=42)\n",
    "\n",
    "# -------------------------------\n",
    "# Define Models and Hyperparameters\n",
    "# -------------------------------\n",
    "pipelines = {\n",
    "    \"Logistic Regression\": Pipeline([\n",
    "        ('tfidf', TfidfVectorizer(max_features=5000,\n",
    "                                  lowercase=False,       # already lowercased\n",
    "                                  stop_words=None       # already removed\n",
    "    )),\n",
    "        ('clf', LogisticRegression(max_iter=1000))\n",
    "    ]),\n",
    "    \"SVM\": Pipeline([\n",
    "        ('tfidf', TfidfVectorizer(max_features=5000,\n",
    "                                  lowercase=False,       # already lowercased\n",
    "                                  stop_words=None       # already removed\n",
    "    )),\n",
    "        ('clf', SVC())\n",
    "    ]),\n",
    "    \"Naive Bayes\": Pipeline([\n",
    "        ('tfidf', TfidfVectorizer(max_features=5000,\n",
    "                                  lowercase=False,       # already lowercased\n",
    "                                  stop_words=None       # already removed\n",
    "    )),\n",
    "        ('clf', MultinomialNB())\n",
    "    ])\n",
    "}\n",
    "\n",
    "param_grids = {\n",
    "    \"Logistic Regression\": {\n",
    "        'tfidf__ngram_range': [(1,1), (1,2)],\n",
    "        'clf__C': [0.1, 1, 10]\n",
    "    },\n",
    "    \"SVM\": {\n",
    "        'tfidf__ngram_range': [(1,1), (1,2)],\n",
    "        'clf__C': [0.1, 1, 10],\n",
    "        'clf__kernel': ['linear', 'rbf']\n",
    "    },\n",
    "    \"Naive Bayes\": {\n",
    "        'tfidf__ngram_range': [(1,1), (1,2)],\n",
    "        'clf__alpha': [0.5, 1.0, 1.5]\n",
    "    }\n",
    "}\n",
    "\n",
    "# -------------------------------\n",
    "# Train on pretrain_df and fine-tune/test on ar_df\n",
    "# -------------------------------\n",
    "for name, pipeline in pipelines.items():\n",
    "    print(f\"\\nPre-training {name} on Phrasebank + FiQA...\")\n",
    "    pipeline.fit(X_pretrain, y_pretrain)\n",
    "\n",
    "    print(f\"Fine-tuning {name} on Annual Report training set...\")\n",
    "    grid = GridSearchCV(pipeline, param_grids[name], cv=5, scoring='f1_macro', n_jobs=-1)\n",
    "    grid.fit(X_train_ar, y_train_ar)\n",
    "\n",
    "    print(f\"Best Params for {name}: {grid.best_params_}\")\n",
    "    print(f\"Classification Report on Annual Report test set:\")\n",
    "    y_pred = grid.predict(X_test_ar)\n",
    "\n",
    "    \n",
    "    # Save classification report\n",
    "    report = classification_report(y_test_ar, y_pred, target_names=sorted(y_ar.unique()), digits=4)\n",
    "    print(report)"
   ]
  },
  {
   "cell_type": "markdown",
   "id": "4c25aa5e-eb57-47e7-9c73-5b7e2571a24a",
   "metadata": {},
   "source": [
    "## **Neural Netowrk (LSTM)**"
   ]
  },
  {
   "cell_type": "code",
   "execution_count": null,
   "id": "062e524d-edd1-4eae-a34a-19e7baf206f9",
   "metadata": {},
   "outputs": [],
   "source": [
    "# !pip install -q tensorflow=2.16.1 keras_tuner"
   ]
  },
  {
   "cell_type": "code",
   "execution_count": 23,
   "id": "9c603016-0884-40b2-8f62-f3144c5c86a8",
   "metadata": {},
   "outputs": [
    {
     "name": "stdout",
     "output_type": "stream",
     "text": [
      "Trial 10 Complete [00h 01m 42s]\n",
      "val_accuracy: 0.9193121790885925\n",
      "\n",
      "Best val_accuracy So Far: 0.9695767164230347\n",
      "Total elapsed time: 00h 12m 51s\n",
      "Epoch 1/10\n",
      "\u001b[1m95/95\u001b[0m \u001b[32m━━━━━━━━━━━━━━━━━━━━\u001b[0m\u001b[37m\u001b[0m \u001b[1m6s\u001b[0m 49ms/step - accuracy: 0.6875 - loss: 0.7666 - val_accuracy: 0.8214 - val_loss: 0.5035\n",
      "Epoch 2/10\n",
      "\u001b[1m95/95\u001b[0m \u001b[32m━━━━━━━━━━━━━━━━━━━━\u001b[0m\u001b[37m\u001b[0m \u001b[1m6s\u001b[0m 60ms/step - accuracy: 0.8808 - loss: 0.3901 - val_accuracy: 0.8889 - val_loss: 0.3189\n",
      "Epoch 3/10\n",
      "\u001b[1m95/95\u001b[0m \u001b[32m━━━━━━━━━━━━━━━━━━━━\u001b[0m\u001b[37m\u001b[0m \u001b[1m6s\u001b[0m 60ms/step - accuracy: 0.9397 - loss: 0.1842 - val_accuracy: 0.9458 - val_loss: 0.1922\n",
      "Epoch 4/10\n",
      "\u001b[1m95/95\u001b[0m \u001b[32m━━━━━━━━━━━━━━━━━━━━\u001b[0m\u001b[37m\u001b[0m \u001b[1m6s\u001b[0m 59ms/step - accuracy: 0.9761 - loss: 0.0794 - val_accuracy: 0.9603 - val_loss: 0.1938\n",
      "Epoch 5/10\n",
      "\u001b[1m95/95\u001b[0m \u001b[32m━━━━━━━━━━━━━━━━━━━━\u001b[0m\u001b[37m\u001b[0m \u001b[1m5s\u001b[0m 53ms/step - accuracy: 0.9848 - loss: 0.0572 - val_accuracy: 0.9656 - val_loss: 0.1809\n",
      "Epoch 6/10\n",
      "\u001b[1m95/95\u001b[0m \u001b[32m━━━━━━━━━━━━━━━━━━━━\u001b[0m\u001b[37m\u001b[0m \u001b[1m5s\u001b[0m 50ms/step - accuracy: 0.9964 - loss: 0.0203 - val_accuracy: 0.9524 - val_loss: 0.1742\n",
      "Epoch 7/10\n",
      "\u001b[1m95/95\u001b[0m \u001b[32m━━━━━━━━━━━━━━━━━━━━\u001b[0m\u001b[37m\u001b[0m \u001b[1m5s\u001b[0m 50ms/step - accuracy: 0.9918 - loss: 0.0291 - val_accuracy: 0.9630 - val_loss: 0.1845\n",
      "Epoch 8/10\n",
      "\u001b[1m95/95\u001b[0m \u001b[32m━━━━━━━━━━━━━━━━━━━━\u001b[0m\u001b[37m\u001b[0m \u001b[1m5s\u001b[0m 52ms/step - accuracy: 0.9966 - loss: 0.0113 - val_accuracy: 0.9603 - val_loss: 0.2479\n",
      "Epoch 9/10\n",
      "\u001b[1m95/95\u001b[0m \u001b[32m━━━━━━━━━━━━━━━━━━━━\u001b[0m\u001b[37m\u001b[0m \u001b[1m5s\u001b[0m 52ms/step - accuracy: 0.9996 - loss: 0.0033 - val_accuracy: 0.9643 - val_loss: 0.2592\n",
      "Epoch 10/10\n",
      "\u001b[1m95/95\u001b[0m \u001b[32m━━━━━━━━━━━━━━━━━━━━\u001b[0m\u001b[37m\u001b[0m \u001b[1m5s\u001b[0m 53ms/step - accuracy: 0.9998 - loss: 0.0029 - val_accuracy: 0.9590 - val_loss: 0.1974\n",
      "\u001b[1m30/30\u001b[0m \u001b[32m━━━━━━━━━━━━━━━━━━━━\u001b[0m\u001b[37m\u001b[0m \u001b[1m0s\u001b[0m 12ms/step\n",
      "\n",
      "=== Evaluation ===\n",
      "              precision    recall  f1-score   support\n",
      "\n",
      "    negative     0.9762    0.6949    0.8119        59\n",
      "     neutral     0.9701    1.0000    0.9848       649\n",
      "    positive     1.0000    0.9873    0.9936       237\n",
      "\n",
      "    accuracy                         0.9778       945\n",
      "   macro avg     0.9821    0.8941    0.9301       945\n",
      "weighted avg     0.9780    0.9778    0.9762       945\n",
      "\n"
     ]
    }
   ],
   "source": [
    "warnings.filterwarnings(\"ignore\")\n",
    "\n",
    "# Constants\n",
    "MAX_NUM_WORDS = 10000\n",
    "MAX_SEQUENCE_LENGTH = 100\n",
    "EMBEDDING_DIM = 100\n",
    "PRETRAIN_WEIGHTS_PATH = \"pretrained_lstm.weights.h5\"\n",
    "\n",
    "# === Load Pretraining Data ===\n",
    "pretrain_df = pd.read_csv(\"Dataset/Preprocessed/nn_pbfiqa.csv\")\n",
    "texts_pretrain = pretrain_df['Sentence'].astype(str)\n",
    "labels_pretrain = pretrain_df['Sentiment']\n",
    "\n",
    "label_encoder = LabelEncoder()\n",
    "labels_pretrain_encoded = label_encoder.fit_transform(labels_pretrain)\n",
    "\n",
    "tokenizer = Tokenizer(num_words=MAX_NUM_WORDS, oov_token='<OOV>')\n",
    "tokenizer.fit_on_texts(texts_pretrain)\n",
    "X_pretrain = pad_sequences(tokenizer.texts_to_sequences(texts_pretrain), maxlen=MAX_SEQUENCE_LENGTH)\n",
    "\n",
    "# === Define Model Function ===\n",
    "def build_model(hp=None, load_pretrained=False):\n",
    "    lstm_units = 64\n",
    "    dense_units = 64\n",
    "    dense_dropout = 0.3\n",
    "    learning_rate = 1e-3\n",
    "\n",
    "    if hp and not load_pretrained:\n",
    "        # Only allow tuning if not loading pretrained weights\n",
    "        dense_units = hp.Int(\"dense_units\", 32, 128, step=32)\n",
    "        dense_dropout = hp.Float(\"dense_dropout\", 0.1, 0.5, step=0.1)\n",
    "        learning_rate = float(hp.Choice(\"learning_rate\", [1e-3, 1e-4]))\n",
    "\n",
    "    model = Sequential()\n",
    "    model.add(Embedding(MAX_NUM_WORDS, EMBEDDING_DIM, input_length=MAX_SEQUENCE_LENGTH, trainable=True))\n",
    "    model.add(LSTM(units=lstm_units, dropout=0.2, recurrent_dropout=0.2))  # Fixed\n",
    "    model.add(Dense(units=dense_units, activation='relu'))\n",
    "    model.add(Dropout(dense_dropout))\n",
    "    model.add(Dense(len(np.unique(labels_pretrain_encoded)), activation='softmax'))\n",
    "\n",
    "    model.compile(\n",
    "        optimizer=Adam(learning_rate=learning_rate),\n",
    "        loss=\"sparse_categorical_crossentropy\",\n",
    "        metrics=[\"accuracy\"]\n",
    "    )\n",
    "\n",
    "    if load_pretrained:\n",
    "        model.build(input_shape=(None, MAX_SEQUENCE_LENGTH))\n",
    "        try:\n",
    "            model.load_weights(PRETRAIN_WEIGHTS_PATH)\n",
    "        except Exception as e:\n",
    "            print(\"Warning: Couldn't load pretrained weights:\", e)\n",
    "\n",
    "    return model\n",
    "\n",
    "# === Pretrain ===\n",
    "print(\"=== Pretraining ===\")\n",
    "pretrain_model = build_model()\n",
    "pretrain_model.fit(X_pretrain, labels_pretrain_encoded, epochs=20, batch_size=32, validation_split=0.2,\n",
    "                   callbacks=[EarlyStopping(monitor='val_loss', patience=3, restore_best_weights=True)])\n",
    "pretrain_model.save_weights(PRETRAIN_WEIGHTS_PATH)\n",
    "\n",
    "# === Load Fine-Tuning Data ===\n",
    "train_df = pd.read_csv(\"Dataset/Preprocessed/nn_ar.csv\")\n",
    "texts_finetune = train_df['Sentence'].astype(str)\n",
    "labels_finetune = label_encoder.transform(train_df['Sentiment'])\n",
    "\n",
    "X_finetune = pad_sequences(tokenizer.texts_to_sequences(texts_finetune), maxlen=MAX_SEQUENCE_LENGTH)\n",
    "X_train, X_test, y_train, y_test = train_test_split(X_finetune, labels_finetune, test_size=0.2, random_state=42)\n",
    "\n",
    "# === Fine-tune with Keras Tuner ===\n",
    "# Phase 1: HYPERPARAMETER TUNING WITHOUT pretrained weights\n",
    "tuner = kt.RandomSearch(\n",
    "    lambda hp: build_model(hp, load_pretrained=False),\n",
    "    objective='val_accuracy',\n",
    "    max_trials=10,\n",
    "    executions_per_trial=1,\n",
    "    directory='tuner_dir',\n",
    "    project_name='tune_architecture'\n",
    ")\n",
    "\n",
    "tuner.search(\n",
    "    X_train, y_train,\n",
    "    validation_split=0.2,\n",
    "    epochs=20,\n",
    "    callbacks=[EarlyStopping(monitor='val_loss', patience=5)],\n",
    "    verbose=1\n",
    ")\n",
    "\n",
    "# Phase 2: LOAD BEST HPs and retrain WITH pretrained weights\n",
    "best_hp = tuner.get_best_hyperparameters(1)[0]\n",
    "model = build_model(best_hp, load_pretrained=True)\n",
    "\n",
    "history = model.fit(\n",
    "    X_train, y_train,\n",
    "    validation_split=0.2,\n",
    "    epochs=10,\n",
    "    callbacks=[EarlyStopping(monitor='val_loss', patience=5)],\n",
    "    verbose=1\n",
    ")\n",
    "\n",
    "\n",
    "# === Evaluate Best Model ===\n",
    "best_model = tuner.get_best_models(1)[0]\n",
    "y_pred_probs = best_model.predict(X_test)\n",
    "y_pred = np.argmax(y_pred_probs, axis=1)\n",
    "print(\"\\n=== Evaluation ===\")\n",
    "report = classification_report(y_test, y_pred, target_names=label_encoder.classes_, digits=4)\n",
    "print(report)"
   ]
  },
  {
   "cell_type": "code",
   "execution_count": 24,
   "id": "9afccc82-4734-40d1-b9a6-459f56064017",
   "metadata": {},
   "outputs": [
    {
     "data": {
      "image/png": "[encoded data removed]",
      "text/plain": [
       "<Figure size 600x500 with 2 Axes>"
      ]
     },
     "metadata": {},
     "output_type": "display_data"
    }
   ],
   "source": [
    "\n",
    "# Compute confusion matrix\n",
    "cm = confusion_matrix(y_test, y_pred)\n",
    "\n",
    "# Plot and save\n",
    "plt.figure(figsize=(6, 5))\n",
    "sns.heatmap(cm, annot=True, fmt='d', cmap='Blues', xticklabels=label_encoder.classes_, yticklabels=label_encoder.classes_)\n",
    "plt.xlabel(\"Predicted\")\n",
    "plt.ylabel(\"True\")\n",
    "plt.title(\"Confusion Matrix\")\n",
    "plt.tight_layout()"
   ]
  },
  {
   "cell_type": "code",
   "execution_count": 25,
   "id": "ce57e396-9e75-41e4-91db-bfd0c9b76bf8",
   "metadata": {},
   "outputs": [
    {
     "data": {
      "image/png": "[encoded data removed]",
      "text/plain": [
       "<Figure size 1000x600 with 1 Axes>"
      ]
     },
     "metadata": {},
     "output_type": "display_data"
    }
   ],
   "source": [
    "# Convert training history to DataFrame\n",
    "history_df = pd.DataFrame(history.history)\n",
    "\n",
    "# Plot all in one figure\n",
    "plt.figure(figsize=(10, 6))\n",
    "\n",
    "# Accuracy\n",
    "plt.plot(history_df['accuracy'], label='Train Accuracy')\n",
    "plt.plot(history_df['val_accuracy'], label='Val Accuracy')\n",
    "\n",
    "# Loss\n",
    "plt.plot(history_df['loss'], label='Train Loss')\n",
    "plt.plot(history_df['val_loss'], label='Val Loss')\n",
    "\n",
    "plt.title('Training and Validation Metrics')\n",
    "plt.xlabel('Epoch')\n",
    "plt.ylabel('Value')\n",
    "plt.legend()\n",
    "plt.grid(True)\n",
    "plt.tight_layout()"
   ]
  }
 ],
 "metadata": {
  "kernelspec": {
   "display_name": "nlp_env",
   "language": "python",
   "name": "python3"
  },
  "language_info": {
   "codemirror_mode": {
    "name": "ipython",
    "version": 3
   },
   "file_extension": ".py",
   "mimetype": "text/x-python",
   "name": "python",
   "nbconvert_exporter": "python",
   "pygments_lexer": "ipython3",
   "version": "3.11.11"
  }
 },
 "nbformat": 4,
 "nbformat_minor": 5
}
